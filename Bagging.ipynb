{
 "cells": [
  {
   "cell_type": "code",
   "execution_count": 1,
   "id": "british-sleeve",
   "metadata": {},
   "outputs": [],
   "source": [
    "import matplotlib.pyplot as plt\n",
    "import tensorflow as tf\n",
    "import math,time,os"
   ]
  },
  {
   "cell_type": "code",
   "execution_count": null,
   "id": "worthy-detroit",
   "metadata": {},
   "outputs": [],
   "source": [
    "base_model = tf.keras.applications.MobileNetV3Small(weights=None,classes=len(class_names))\n",
    "class BaggingModel(tf.keras.Model):\n",
    "    def __init__(self):\n",
    "        super(BaggingModel, self).__init__()\n",
    "        self.base1 = tf.keras.applications.MobileNetV3Small(weights='weights/mobilenetv3l')\n",
    "        self.base2 = tf.keras.applications.MobileNetV3Small(weights='weights/mobilenetv3l')\n",
    "        self.base3 = tf.keras.applications.MobileNetV3Small(weights='weights/mobilenetv3l')\n",
    "        for i in range(40):\n",
    "            self.setattr('dense'+str(i),tf.keras.layers.Dense(1))\n",
    "        \n",
    "    def call(self, inputs):\n",
    "        x1 = self.base1(inputs)\n",
    "        x2 = self.base2(inputs)\n",
    "        x3 = self.base3(inputs)\n",
    "        outputs = []\n",
    "        for i in range(40):\n",
    "            outputs.append(self.getattr('dense'+str(i))(tf.concat([x1[:,i],x2[:,i],x3[:,i]],-1)))\n",
    "        return tf.concat(outputs,-1)"
   ]
  }
 ],
 "metadata": {
  "kernelspec": {
   "display_name": "Python 3",
   "language": "python",
   "name": "python3"
  },
  "language_info": {
   "codemirror_mode": {
    "name": "ipython",
    "version": 3
   },
   "file_extension": ".py",
   "mimetype": "text/x-python",
   "name": "python",
   "nbconvert_exporter": "python",
   "pygments_lexer": "ipython3",
   "version": "3.7.10"
  }
 },
 "nbformat": 4,
 "nbformat_minor": 5
}
