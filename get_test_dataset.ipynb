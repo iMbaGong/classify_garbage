{
 "cells": [
  {
   "cell_type": "code",
   "execution_count": 17,
   "id": "individual-transcription",
   "metadata": {},
   "outputs": [],
   "source": [
    "import os\n",
    "import random,shutil\n",
    "import tensorflow as tf"
   ]
  },
  {
   "cell_type": "code",
   "execution_count": 3,
   "id": "stable-retro",
   "metadata": {},
   "outputs": [],
   "source": [
    "def parse_label(path):\n",
    "    raw = open(path).read()\n",
    "    classnames =[]\n",
    "    for cls in raw.split('\\n'):\n",
    "        if cls == '':\n",
    "            continue\n",
    "        classnames.append(cls)\n",
    "    return classnames"
   ]
  },
  {
   "cell_type": "code",
   "execution_count": 4,
   "id": "threatened-stomach",
   "metadata": {},
   "outputs": [],
   "source": [
    "train_dir = './data/train/'\n",
    "test_dir = './data/test/'\n",
    "class_names = parse_label(train_dir+'classes_label.txt')\n",
    "train_file_dirs = [train_dir+classname for classname in class_names] "
   ]
  },
  {
   "cell_type": "code",
   "execution_count": 15,
   "id": "controlled-ballot",
   "metadata": {},
   "outputs": [
    {
     "name": "stdout",
     "output_type": "stream",
     "text": [
      "./data/test/衣服\n",
      "./data/test/玻璃\n",
      "./data/test/口服液瓶\n",
      "./data/test/口罩\n",
      "./data/test/牙刷\n",
      "./data/test/尿布\n",
      "./data/test/鞋\n",
      "./data/test/塑料瓶\n",
      "./data/test/报纸\n",
      "./data/test/易拉罐\n",
      "./data/test/纸箱\n",
      "./data/test/果蔬\n",
      "./data/test/电池\n",
      "./data/test/打火机\n",
      "./data/test/废弃灯泡\n",
      "./data/test/花盆\n",
      "./data/test/卫生纸\n",
      "./data/test/纱布\n",
      "./data/test/棉签\n",
      "./data/test/橡胶手套\n",
      "./data/test/化妆刷\n",
      "./data/test/创口贴\n",
      "./data/test/一次性筷子\n",
      "./data/test/熟食\n",
      "./data/test/塑料袋\n",
      "./data/test/手机\n",
      "./data/test/笔\n",
      "./data/test/笔记本\n",
      "./data/test/背包\n",
      "./data/test/键盘\n",
      "./data/test/电子表\n",
      "./data/test/电脑\n",
      "./data/test/鼠标\n",
      "./data/test/杯子\n",
      "./data/test/磁带\n",
      "./data/test/帽子\n",
      "./data/test/电子闹钟\n",
      "./data/test/皮带\n",
      "./data/test/袜子\n",
      "./data/test/刀\n"
     ]
    }
   ],
   "source": [
    "rate = 0.25\n",
    "for file_dir in train_file_dirs:\n",
    "    filenames =  [file_dir+'/'+filename for filename in os.listdir(file_dir)]\n",
    "    random.shuffle(filenames)\n",
    "    dst_dir = test_dir + file_dir.split('/')[-1]\n",
    "    if not os.path.exists(dst_dir):\n",
    "            os.makedirs(dst_dir)\n",
    "    print(dst_dir)\n",
    "    for filename in filenames[0:int(len(filenames)*rate)]:\n",
    "        shutil.copy(filename, dst_dir + '/' + filename.split('/')[-1]) "
   ]
  },
  {
   "cell_type": "code",
   "execution_count": 18,
   "id": "romantic-portsmouth",
   "metadata": {},
   "outputs": [
    {
     "name": "stdout",
     "output_type": "stream",
     "text": [
      "tf.Tensor(\n",
      "[b'./data/train/\\xe8\\xa1\\xa3\\xe6\\x9c\\x8d/clothes1.jpg'\n",
      " b'./data/train/\\xe8\\xa1\\xa3\\xe6\\x9c\\x8d/clothes10.jpg'\n",
      " b'./data/train/\\xe8\\xa1\\xa3\\xe6\\x9c\\x8d/clothes100.jpg' ...\n",
      " b'./data/train/\\xe8\\xa1\\xa3\\xe6\\x9c\\x8d/clothes997.jpg'\n",
      " b'./data/train/\\xe8\\xa1\\xa3\\xe6\\x9c\\x8d/clothes998.jpg'\n",
      " b'./data/train/\\xe8\\xa1\\xa3\\xe6\\x9c\\x8d/clothes999.jpg'], shape=(2152,), dtype=string)\n",
      "tf.Tensor(\n",
      "[b'./data/train/\\xe8\\xa1\\xa3\\xe6\\x9c\\x8d/clothes1.jpg'\n",
      " b'./data/train/\\xe8\\xa1\\xa3\\xe6\\x9c\\x8d/clothes10.jpg'\n",
      " b'./data/train/\\xe8\\xa1\\xa3\\xe6\\x9c\\x8d/clothes100.jpg' ...\n",
      " b'./data/train/\\xe8\\xa1\\xa3\\xe6\\x9c\\x8d/clothes997.jpg'\n",
      " b'./data/train/\\xe8\\xa1\\xa3\\xe6\\x9c\\x8d/clothes998.jpg'\n",
      " b'./data/train/\\xe8\\xa1\\xa3\\xe6\\x9c\\x8d/clothes999.jpg'], shape=(2152,), dtype=string)\n",
      "total:2152\n"
     ]
    }
   ],
   "source": []
  },
  {
   "cell_type": "code",
   "execution_count": null,
   "id": "indirect-words",
   "metadata": {},
   "outputs": [],
   "source": []
  },
  {
   "cell_type": "code",
   "execution_count": null,
   "id": "celtic-cambridge",
   "metadata": {},
   "outputs": [],
   "source": []
  }
 ],
 "metadata": {
  "kernelspec": {
   "display_name": "Python 3",
   "language": "python",
   "name": "python3"
  },
  "language_info": {
   "codemirror_mode": {
    "name": "ipython",
    "version": 3
   },
   "file_extension": ".py",
   "mimetype": "text/x-python",
   "name": "python",
   "nbconvert_exporter": "python",
   "pygments_lexer": "ipython3",
   "version": "3.7.10"
  }
 },
 "nbformat": 4,
 "nbformat_minor": 5
}
