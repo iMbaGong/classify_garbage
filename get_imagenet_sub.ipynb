{
 "cells": [
  {
   "cell_type": "code",
   "execution_count": 1,
   "id": "running-appointment",
   "metadata": {},
   "outputs": [],
   "source": [
    "import tensorflow as tf\n",
    "import os"
   ]
  },
  {
   "cell_type": "code",
   "execution_count": 2,
   "id": "romantic-modification",
   "metadata": {},
   "outputs": [
    {
     "name": "stdout",
     "output_type": "stream",
     "text": [
      "G:/ILSVRC2012_img_train/n02727426.tar is not exist\n",
      "G:/ILSVRC2012_img_train/n02769748.tar is not exist\n",
      "G:/ILSVRC2012_img_train/n02783161.tar is not exist\n",
      "G:/ILSVRC2012_img_train/n02802426.tar is not exist\n",
      "G:/ILSVRC2012_img_train/n02808304.tar is not exist\n",
      "G:/ILSVRC2012_img_train/n02840245.tar is not exist\n",
      "G:/ILSVRC2012_img_train/n02910353.tar is not exist\n",
      "G:/ILSVRC2012_img_train/n02978881.tar is not exist\n",
      "G:/ILSVRC2012_img_train/n02992529.tar is not exist\n",
      "G:/ILSVRC2012_img_train/n03026506.tar is not exist\n",
      "G:/ILSVRC2012_img_train/n03041632.tar is not exist\n",
      "G:/ILSVRC2012_img_train/n03063599.tar is not exist\n",
      "G:/ILSVRC2012_img_train/n03085013.tar is not exist\n",
      "G:/ILSVRC2012_img_train/n03124170.tar is not exist\n",
      "G:/ILSVRC2012_img_train/n03180011.tar is not exist\n",
      "G:/ILSVRC2012_img_train/n03197337.tar is not exist\n",
      "G:/ILSVRC2012_img_train/n03196217.tar is not exist\n",
      "G:/ILSVRC2012_img_train/n03782006.tar is not exist\n",
      "G:/ILSVRC2012_img_train/n03793489.tar is not exist\n",
      "G:/ILSVRC2012_img_train/n03942813.tar is not exist\n",
      "G:/ILSVRC2012_img_train/n03958227.tar is not exist\n",
      "G:/ILSVRC2012_img_train/n03983396.tar is not exist\n",
      "G:/ILSVRC2012_img_train/n07684084.tar is not exist\n"
     ]
    }
   ],
   "source": [
    "imagenet_dir = 'G:/ILSVRC2012_img_train/'\n",
    "raw = open('./data/imagenet_sub/classes_label.txt',encoding='utf8').read()\n",
    "for line in raw.split('\\n'):\n",
    "    [file_no, class_name] = line.split(' ')\n",
    "    src_dir = imagenet_dir + file_no + '.tar'\n",
    "    dst_dir = './data/imagenet_sub/' + class_name + '.tar'\n",
    "    if not tf.io.gfile.exists(class_name):\n",
    "        print(src_dir+' is not exist')\n",
    "    else:\n",
    "        print(src_dir + ' copying to ' + dst_dir)\n",
    "        tf.io.gfile.copy(class_name, dst_dir)"
   ]
  },
  {
   "cell_type": "code",
   "execution_count": null,
   "id": "directed-viewer",
   "metadata": {},
   "outputs": [],
   "source": []
  }
 ],
 "metadata": {
  "kernelspec": {
   "display_name": "Python 3",
   "language": "python",
   "name": "python3"
  },
  "language_info": {
   "codemirror_mode": {
    "name": "ipython",
    "version": 3
   },
   "file_extension": ".py",
   "mimetype": "text/x-python",
   "name": "python",
   "nbconvert_exporter": "python",
   "pygments_lexer": "ipython3",
   "version": "3.7.10"
  }
 },
 "nbformat": 4,
 "nbformat_minor": 5
}
