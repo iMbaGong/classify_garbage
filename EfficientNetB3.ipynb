{
 "cells": [
  {
   "cell_type": "code",
   "execution_count": 1,
   "id": "homeless-salvation",
   "metadata": {},
   "outputs": [],
   "source": [
    "import matplotlib.pyplot as plt\n",
    "import tensorflow as tf\n",
    "import math,time,os"
   ]
  },
  {
   "cell_type": "code",
   "execution_count": 2,
   "id": "coupled-kitchen",
   "metadata": {},
   "outputs": [
    {
     "name": "stdout",
     "output_type": "stream",
     "text": [
      "total:94175\n"
     ]
    }
   ],
   "source": [
    "def parse_label(path):\n",
    "    raw = open(path).read()\n",
    "    classnames =[]\n",
    "    for cls in raw.split('\\n'):\n",
    "        if cls == '':\n",
    "            continue\n",
    "        classnames.append(cls)\n",
    "    return classnames\n",
    "\n",
    "def _decode_and_resize(filename, label):\n",
    "    image_string = tf.io.read_file(filename)  # 读取原始文件\n",
    "    image_decoded = tf.io.decode_jpeg(image_string,channels=3)  # 解码JPEG图片\n",
    "    image_resized = tf.image.resize(image_decoded, [300, 300]) / 255.0\n",
    "    return image_resized, label\n",
    "\n",
    "def load_data(dirs):\n",
    "    images_name = []\n",
    "    labels = []\n",
    "    for i,file_dir in enumerate(dirs):\n",
    "        filename = tf.constant([file_dir + '/' + filename for filename in os.listdir(file_dir)])\n",
    "        images_name = tf.concat([images_name,filename],axis=-1)\n",
    "        labels = tf.concat([labels,tf.constant(i,shape=filename.shape[0])],axis=-1)\n",
    "    print(\"total:%d\" %  images_name.shape[0])\n",
    "    train_dataset = tf.data.Dataset.from_tensor_slices((images_name, labels))\n",
    "    train_dataset = train_dataset.map(\n",
    "        map_func=_decode_and_resize,\n",
    "        num_parallel_calls=tf.data.experimental.AUTOTUNE)\n",
    "    return train_dataset\n",
    "\n",
    "num_epochs = 1\n",
    "batch_size = 5\n",
    "learning_rate = 0.01\n",
    "buffer_size=10000\n",
    "\n",
    "train_dir = './data/train/'\n",
    "class_names = parse_label(train_dir+'classes_label.txt')\n",
    "train_file_dirs = [train_dir+classname for classname in class_names] \n",
    "train_dataset = load_data(train_file_dirs)\n",
    "train_dataset = train_dataset.shuffle(buffer_size)\n",
    "train_dataset = train_dataset.batch(batch)\n",
    "train_dataset = train_dataset.prefetch(tf.data.experimental.AUTOTUNE)"
   ]
  },
  {
   "cell_type": "code",
   "execution_count": null,
   "id": "prescription-facing",
   "metadata": {},
   "outputs": [
    {
     "name": "stdout",
     "output_type": "stream",
     "text": [
      "12163/18835 [==================>...........] - ETA: 54:38 - loss: 2.2312 - sparse_categorical_accuracy: 0.2553 ETA: 52:41 - loss: 2.2311 - sparse_categorical_"
     ]
    }
   ],
   "source": [
    "model = tf.keras.applications.EfficientNetB3(weights=None,classes=len(class_names))\n",
    "model.compile(\n",
    "        optimizer=tf.keras.optimizers.Adam(learning_rate=learning_rate),\n",
    "        loss=tf.keras.losses.sparse_categorical_crossentropy,\n",
    "        metrics=[tf.keras.metrics.sparse_categorical_accuracy]\n",
    "    )\n",
    "model.fit(train_dataset,epochs=num_epochs)"
   ]
  }
 ],
 "metadata": {
  "kernelspec": {
   "display_name": "Python 3",
   "language": "python",
   "name": "python3"
  },
  "language_info": {
   "codemirror_mode": {
    "name": "ipython",
    "version": 3
   },
   "file_extension": ".py",
   "mimetype": "text/x-python",
   "name": "python",
   "nbconvert_exporter": "python",
   "pygments_lexer": "ipython3",
   "version": "3.7.10"
  }
 },
 "nbformat": 4,
 "nbformat_minor": 5
}
